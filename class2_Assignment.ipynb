{
  "nbformat": 4,
  "nbformat_minor": 0,
  "metadata": {
    "colab": {
      "provenance": [],
      "authorship_tag": "ABX9TyNNHVCKv1D4hSkpfxXmNlEm",
      "include_colab_link": true
    },
    "kernelspec": {
      "name": "python3",
      "display_name": "Python 3"
    },
    "language_info": {
      "name": "python"
    }
  },
  "cells": [
    {
      "cell_type": "markdown",
      "metadata": {
        "id": "view-in-github",
        "colab_type": "text"
      },
      "source": [
        "<a href=\"https://colab.research.google.com/github/Aqsaarshi/python-assignment-2/blob/main/class2_Assignment.ipynb\" target=\"_parent\"><img src=\"https://colab.research.google.com/assets/colab-badge.svg\" alt=\"Open In Colab\"/></a>"
      ]
    },
    {
      "cell_type": "markdown",
      "source": [
        "Class 2 Assignment"
      ],
      "metadata": {
        "id": "PijXlpn9cJMF"
      }
    },
    {
      "cell_type": "markdown",
      "source": [],
      "metadata": {
        "id": "3x6SoD-HECuG"
      }
    },
    {
      "cell_type": "code",
      "source": [
        "num1 = float(input(\"Enter first number: \"))\n",
        "\n",
        "operator = input(\"Enter operator (+,-,*,/):\")\n",
        "\n",
        "num2 = float(input(\"Enter second number:\"))\n",
        "\n",
        "if operator == '+':\n",
        "  print(\"Result\",num1 + num2)\n",
        "\n",
        "elif operator == '-':\n",
        "  print(\"Result\",num1 - num2)\n",
        "elif operator == \"*\":\n",
        "  print(\"Result\",num1 * num2)\n",
        "elif operator == \"/\":\n",
        "  print(\"Result\",num1 / num2 if num2 !=0 else \"Error! Division by Zero\")\n",
        "else:\n",
        "  print(\"Invalid operator\")\n",
        "\n",
        "\n"
      ],
      "metadata": {
        "colab": {
          "base_uri": "https://localhost:8080/"
        },
        "id": "IgR7Cv0Yc1A_",
        "outputId": "b9aeb4e1-85a8-46c8-bc50-0eb6e235837c"
      },
      "execution_count": null,
      "outputs": [
        {
          "output_type": "stream",
          "name": "stdout",
          "text": [
            "Enter first number: 50\n",
            "Enter operator (+,-,*,/):*\n",
            "Enter second number:60\n",
            "Result 3000.0\n"
          ]
        }
      ]
    },
    {
      "cell_type": "markdown",
      "source": [
        "Grade Method\n"
      ],
      "metadata": {
        "id": "xjUREav3EJ2M"
      }
    },
    {
      "cell_type": "code",
      "source": [
        "marks = float(input(\"Enter your marks: \"))\n",
        "\n",
        "if marks >= 90:\n",
        "  print(\"Grade A+ (Excellent)\")\n",
        "elif marks >= 80:\n",
        "  print(\"Grade A (Very Good)\")\n",
        "elif marks >= 70:\n",
        "  print(\"Grade B (Good)\")\n",
        "elif marks >= 60:\n",
        "  print(\"Grade C (Average)\")\n",
        "elif marks >= 50:\n",
        "  print(\"Grade D (Below Average)\")\n",
        "else:\n",
        "  print(\"F (Fail)\")"
      ],
      "metadata": {
        "colab": {
          "base_uri": "https://localhost:8080/"
        },
        "id": "f_m4RehHEVaF",
        "outputId": "744ae251-de61-437c-aead-00cef6170b9e"
      },
      "execution_count": null,
      "outputs": [
        {
          "output_type": "stream",
          "name": "stdout",
          "text": [
            "Enter your marks: 10\n",
            "F (Fail)\n"
          ]
        }
      ]
    }
  ]
}