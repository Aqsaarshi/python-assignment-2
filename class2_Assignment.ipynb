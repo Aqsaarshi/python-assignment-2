{
  "nbformat": 4,
  "nbformat_minor": 0,
  "metadata": {
    "colab": {
      "provenance": [],
      "authorship_tag": "ABX9TyPX1LglX9O/C0BlkvDKoUzK",
      "include_colab_link": true
    },
    "kernelspec": {
      "name": "python3",
      "display_name": "Python 3"
    },
    "language_info": {
      "name": "python"
    }
  },
  "cells": [
    {
      "cell_type": "markdown",
      "metadata": {
        "id": "view-in-github",
        "colab_type": "text"
      },
      "source": [
        "<a href=\"https://colab.research.google.com/github/Aqsaarshi/python-assignment-2/blob/main/class2_Assignment.ipynb\" target=\"_parent\"><img src=\"https://colab.research.google.com/assets/colab-badge.svg\" alt=\"Open In Colab\"/></a>"
      ]
    },
    {
      "cell_type": "markdown",
      "source": [
        "Class 2 Assignment"
      ],
      "metadata": {
        "id": "PijXlpn9cJMF"
      }
    },
    {
      "cell_type": "code",
      "source": [
        "num1 = float(input(\"Enter first number: \"))\n",
        "\n",
        "operator = input(\"Enter operator (+,-,*,/):\")\n",
        "\n",
        "num2 = float(input(\"Enter second number:\"))\n",
        "\n",
        "if operator == '+':\n",
        "  print(\"Result\",num1 + num2)\n",
        "\n",
        "elif operator == '-':\n",
        "  print(\"Result\",num1 - num2)\n",
        "elif operator == \"*\":\n",
        "  print(\"Result\",num1 * num2)\n",
        "elif operator == \"/\":\n",
        "  print(\"Result\",num1 / num2 if num2 !=0 else \"Error! Division by Zero\")\n",
        "else:\n",
        "  print(\"Invalid operator\")\n",
        "\n",
        "\n"
      ],
      "metadata": {
        "colab": {
          "base_uri": "https://localhost:8080/"
        },
        "id": "IgR7Cv0Yc1A_",
        "outputId": "97a7bf0e-ef70-4abc-f317-9b88bb0bfe40"
      },
      "execution_count": 4,
      "outputs": [
        {
          "output_type": "stream",
          "name": "stdout",
          "text": [
            "Enter first number: 80\n",
            "Enter operator (+,-,*,/):/\n",
            "Enter second number:60\n",
            "Result 1.3333333333333333\n"
          ]
        }
      ]
    }
  ]
}